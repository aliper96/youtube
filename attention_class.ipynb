{
 "cells": [
  {
   "cell_type": "code",
   "execution_count": 2,
   "id": "initial_id",
   "metadata": {
    "collapsed": true,
    "ExecuteTime": {
     "end_time": "2024-08-09T10:14:45.909144Z",
     "start_time": "2024-08-09T10:14:45.903735Z"
    }
   },
   "outputs": [
    {
     "data": {
      "text/plain": "torch.Size([1, 8, 2])"
     },
     "execution_count": 2,
     "metadata": {},
     "output_type": "execute_result"
    }
   ],
   "source": [
    "import torch\n",
    "import torch.nn.functional as F  \n",
    "torch.manual_seed(1337)\n",
    "B,T,C = 1,8,2\n",
    "x = torch.randn(B,T,C)\n",
    "x.shape"
   ]
  },
  {
   "cell_type": "code",
   "outputs": [],
   "source": [
    "xbow = torch.zeros(B,T,C)\n",
    "for b in range(B):\n",
    "    for t in range(T):\n",
    "        xprev = x[b,:t+1] # icluye el t actual\n",
    "        xbow[b,t] = torch.mean(xprev,0)\n"
   ],
   "metadata": {
    "collapsed": false,
    "ExecuteTime": {
     "end_time": "2024-08-09T10:19:28.379402Z",
     "start_time": "2024-08-09T10:19:28.375195Z"
    }
   },
   "id": "3afa14cda16b6cbf",
   "execution_count": 3
  },
  {
   "cell_type": "code",
   "outputs": [
    {
     "data": {
      "text/plain": "tensor([[[ 0.1808, -0.0700],\n         [-0.3596, -0.9152],\n         [ 0.6258,  0.0255],\n         [ 0.9545,  0.0643],\n         [ 0.3612,  1.1679],\n         [-1.3499, -0.5102],\n         [ 0.2360, -0.2398],\n         [-0.9211,  1.5433]]])"
     },
     "execution_count": 4,
     "metadata": {},
     "output_type": "execute_result"
    }
   ],
   "source": [
    "x"
   ],
   "metadata": {
    "collapsed": false,
    "ExecuteTime": {
     "end_time": "2024-08-09T10:19:35.766762Z",
     "start_time": "2024-08-09T10:19:35.761950Z"
    }
   },
   "id": "d19b0d0283d76a99",
   "execution_count": 4
  },
  {
   "cell_type": "code",
   "outputs": [
    {
     "data": {
      "text/plain": "tensor([[[ 0.1808, -0.0700],\n         [-0.0894, -0.4926],\n         [ 0.1490, -0.3199],\n         [ 0.3504, -0.2238],\n         [ 0.3525,  0.0545],\n         [ 0.0688, -0.0396],\n         [ 0.0927, -0.0682],\n         [-0.0341,  0.1332]]])"
     },
     "execution_count": 5,
     "metadata": {},
     "output_type": "execute_result"
    }
   ],
   "source": [
    "xbow"
   ],
   "metadata": {
    "collapsed": false,
    "ExecuteTime": {
     "end_time": "2024-08-09T10:19:42.215978Z",
     "start_time": "2024-08-09T10:19:42.211827Z"
    }
   },
   "id": "a0ac57551da64fef",
   "execution_count": 5
  },
  {
   "cell_type": "code",
   "outputs": [
    {
     "name": "stdout",
     "output_type": "stream",
     "text": [
      "a:= \n",
      "tensor([[1.0000, 0.0000, 0.0000],\n",
      "        [0.5000, 0.5000, 0.0000],\n",
      "        [0.3333, 0.3333, 0.3333]])\n",
      "---\n",
      "b:= \n",
      "tensor([[2., 7.],\n",
      "        [6., 4.],\n",
      "        [6., 5.]])\n",
      "---\n",
      "c:= \n",
      "tensor([[2.0000, 7.0000],\n",
      "        [4.0000, 5.5000],\n",
      "        [4.6667, 5.3333]])\n",
      "---\n"
     ]
    }
   ],
   "source": [
    "torch.manual_seed(42)\n",
    "a = torch.ones(3,3)\n",
    "#add zeros in the diagonal\n",
    "a = torch.tril(torch.ones(3,3)) \n",
    "a = a / torch.sum(a,1,keepdim=True)\n",
    "\n",
    "b = torch.randint(0,10,(3,2)).float()\n",
    "c = a @ b\n",
    "print(\"a:= \")\n",
    "print(a)\n",
    "print(\"---\")\n",
    "print(\"b:= \")\n",
    "print(b)\n",
    "print(\"---\")\n",
    "print(\"c:= \")\n",
    "print(c)\n",
    "print(\"---\")"
   ],
   "metadata": {
    "collapsed": false,
    "ExecuteTime": {
     "end_time": "2024-08-09T10:28:45.088319Z",
     "start_time": "2024-08-09T10:28:45.082187Z"
    }
   },
   "id": "c1cad4d6b02d7f04",
   "execution_count": 9
  },
  {
   "cell_type": "code",
   "outputs": [
    {
     "data": {
      "text/plain": "tensor([[1.0000, 0.0000, 0.0000, 0.0000, 0.0000, 0.0000, 0.0000, 0.0000],\n        [0.5000, 0.5000, 0.0000, 0.0000, 0.0000, 0.0000, 0.0000, 0.0000],\n        [0.3333, 0.3333, 0.3333, 0.0000, 0.0000, 0.0000, 0.0000, 0.0000],\n        [0.2500, 0.2500, 0.2500, 0.2500, 0.0000, 0.0000, 0.0000, 0.0000],\n        [0.2000, 0.2000, 0.2000, 0.2000, 0.2000, 0.0000, 0.0000, 0.0000],\n        [0.1667, 0.1667, 0.1667, 0.1667, 0.1667, 0.1667, 0.0000, 0.0000],\n        [0.1429, 0.1429, 0.1429, 0.1429, 0.1429, 0.1429, 0.1429, 0.0000],\n        [0.1250, 0.1250, 0.1250, 0.1250, 0.1250, 0.1250, 0.1250, 0.1250]])"
     },
     "execution_count": 10,
     "metadata": {},
     "output_type": "execute_result"
    }
   ],
   "source": [
    "wei = torch.tril(torch.ones(T,T))\n",
    "wei = wei / torch.sum(wei,1,keepdim=True)\n",
    "wei"
   ],
   "metadata": {
    "collapsed": false,
    "ExecuteTime": {
     "end_time": "2024-08-09T10:29:08.679760Z",
     "start_time": "2024-08-09T10:29:08.675008Z"
    }
   },
   "id": "82fccb177e95407",
   "execution_count": 10
  },
  {
   "cell_type": "code",
   "outputs": [
    {
     "data": {
      "text/plain": "tensor([[[ 0.1808, -0.0700],\n         [-0.0894, -0.4926],\n         [ 0.1490, -0.3199],\n         [ 0.3504, -0.2238],\n         [ 0.3525,  0.0545],\n         [ 0.0688, -0.0396],\n         [ 0.0927, -0.0682],\n         [-0.0341,  0.1332]]])"
     },
     "execution_count": 11,
     "metadata": {},
     "output_type": "execute_result"
    }
   ],
   "source": [
    "xbow2 = wei @ x\n",
    "xbow2"
   ],
   "metadata": {
    "collapsed": false,
    "ExecuteTime": {
     "end_time": "2024-08-09T10:29:45.471319Z",
     "start_time": "2024-08-09T10:29:45.466816Z"
    }
   },
   "id": "a6f75471d59e829",
   "execution_count": 11
  },
  {
   "cell_type": "code",
   "outputs": [
    {
     "data": {
      "text/plain": "True"
     },
     "execution_count": 12,
     "metadata": {},
     "output_type": "execute_result"
    }
   ],
   "source": [
    "torch.allclose(xbow,xbow2)"
   ],
   "metadata": {
    "collapsed": false,
    "ExecuteTime": {
     "end_time": "2024-08-09T10:30:21.887076Z",
     "start_time": "2024-08-09T10:30:21.882801Z"
    }
   },
   "id": "36e1298e8d3263ed",
   "execution_count": 12
  },
  {
   "cell_type": "code",
   "outputs": [
    {
     "data": {
      "text/plain": "tensor([[1., 0., 0., 0., 0., 0., 0., 0.],\n        [1., 1., 0., 0., 0., 0., 0., 0.],\n        [1., 1., 1., 0., 0., 0., 0., 0.],\n        [1., 1., 1., 1., 0., 0., 0., 0.],\n        [1., 1., 1., 1., 1., 0., 0., 0.],\n        [1., 1., 1., 1., 1., 1., 0., 0.],\n        [1., 1., 1., 1., 1., 1., 1., 0.],\n        [1., 1., 1., 1., 1., 1., 1., 1.]])"
     },
     "execution_count": 13,
     "metadata": {},
     "output_type": "execute_result"
    }
   ],
   "source": [
    "tril = torch.tril(torch.ones(T,T))\n",
    "tril"
   ],
   "metadata": {
    "collapsed": false,
    "ExecuteTime": {
     "end_time": "2024-08-09T10:33:46.831613Z",
     "start_time": "2024-08-09T10:33:46.826355Z"
    }
   },
   "id": "c35b0d32c202ccfd",
   "execution_count": 13
  },
  {
   "cell_type": "code",
   "outputs": [
    {
     "data": {
      "text/plain": "tensor([[1.0000, 0.0000, 0.0000, 0.0000, 0.0000, 0.0000, 0.0000, 0.0000],\n        [0.5000, 0.5000, 0.0000, 0.0000, 0.0000, 0.0000, 0.0000, 0.0000],\n        [0.3333, 0.3333, 0.3333, 0.0000, 0.0000, 0.0000, 0.0000, 0.0000],\n        [0.2500, 0.2500, 0.2500, 0.2500, 0.0000, 0.0000, 0.0000, 0.0000],\n        [0.2000, 0.2000, 0.2000, 0.2000, 0.2000, 0.0000, 0.0000, 0.0000],\n        [0.1667, 0.1667, 0.1667, 0.1667, 0.1667, 0.1667, 0.0000, 0.0000],\n        [0.1429, 0.1429, 0.1429, 0.1429, 0.1429, 0.1429, 0.1429, 0.0000],\n        [0.1250, 0.1250, 0.1250, 0.1250, 0.1250, 0.1250, 0.1250, 0.1250]])"
     },
     "execution_count": 15,
     "metadata": {},
     "output_type": "execute_result"
    }
   ],
   "source": [
    "wei = torch.zeros((T,T))\n",
    "wei = wei.masked_fill(tril== 0, float('-inf'))\n",
    "wei = F.softmax(wei,-1)\n",
    "wei"
   ],
   "metadata": {
    "collapsed": false,
    "ExecuteTime": {
     "end_time": "2024-08-09T10:35:16.033184Z",
     "start_time": "2024-08-09T10:35:16.027953Z"
    }
   },
   "id": "47c7f0ac1bff2b0d",
   "execution_count": 15
  },
  {
   "cell_type": "code",
   "outputs": [
    {
     "data": {
      "text/plain": "tensor([[[1.0000e+00, 0.0000e+00, 0.0000e+00, 0.0000e+00, 0.0000e+00,\n          0.0000e+00, 0.0000e+00, 0.0000e+00],\n         [5.5992e-01, 4.4008e-01, 0.0000e+00, 0.0000e+00, 0.0000e+00,\n          0.0000e+00, 0.0000e+00, 0.0000e+00],\n         [3.2197e-01, 2.0162e-01, 4.7641e-01, 0.0000e+00, 0.0000e+00,\n          0.0000e+00, 0.0000e+00, 0.0000e+00],\n         [1.6397e-01, 8.1458e-02, 2.9607e-01, 4.5850e-01, 0.0000e+00,\n          0.0000e+00, 0.0000e+00, 0.0000e+00],\n         [2.0508e-01, 3.0070e-01, 1.8936e-01, 1.8076e-01, 1.2409e-01,\n          0.0000e+00, 0.0000e+00, 0.0000e+00],\n         [6.0019e-02, 1.2732e-01, 2.9082e-02, 1.6934e-02, 5.5211e-02,\n          7.1144e-01, 0.0000e+00, 0.0000e+00],\n         [1.4085e-01, 1.0251e-01, 1.7444e-01, 2.0379e-01, 1.6895e-01,\n          6.6888e-02, 1.4256e-01, 0.0000e+00],\n         [2.2274e-02, 1.0857e-01, 8.2257e-03, 4.0054e-03, 8.0379e-03,\n          7.2572e-01, 2.1608e-02, 1.0156e-01]],\n\n        [[1.0000e+00, 0.0000e+00, 0.0000e+00, 0.0000e+00, 0.0000e+00,\n          0.0000e+00, 0.0000e+00, 0.0000e+00],\n         [5.6341e-01, 4.3659e-01, 0.0000e+00, 0.0000e+00, 0.0000e+00,\n          0.0000e+00, 0.0000e+00, 0.0000e+00],\n         [2.3584e-05, 5.7957e-04, 9.9940e-01, 0.0000e+00, 0.0000e+00,\n          0.0000e+00, 0.0000e+00, 0.0000e+00],\n         [4.4921e-01, 5.1881e-02, 8.3314e-04, 4.9807e-01, 0.0000e+00,\n          0.0000e+00, 0.0000e+00, 0.0000e+00],\n         [2.8701e-01, 1.7659e-01, 1.3527e-02, 4.8270e-01, 4.0184e-02,\n          0.0000e+00, 0.0000e+00, 0.0000e+00],\n         [4.5854e-03, 2.5295e-02, 7.5565e-01, 4.0646e-03, 2.3923e-02,\n          1.8648e-01, 0.0000e+00, 0.0000e+00],\n         [2.8994e-01, 1.2594e-01, 9.4295e-03, 4.0798e-01, 5.4164e-02,\n          1.9184e-02, 9.3367e-02, 0.0000e+00],\n         [2.4953e-01, 3.9061e-02, 7.7694e-03, 1.5176e-01, 2.8757e-01,\n          3.3437e-02, 1.9986e-01, 3.1018e-02]],\n\n        [[1.0000e+00, 0.0000e+00, 0.0000e+00, 0.0000e+00, 0.0000e+00,\n          0.0000e+00, 0.0000e+00, 0.0000e+00],\n         [9.1319e-02, 9.0868e-01, 0.0000e+00, 0.0000e+00, 0.0000e+00,\n          0.0000e+00, 0.0000e+00, 0.0000e+00],\n         [5.2471e-01, 2.4614e-01, 2.2915e-01, 0.0000e+00, 0.0000e+00,\n          0.0000e+00, 0.0000e+00, 0.0000e+00],\n         [2.8598e-01, 2.4318e-02, 9.6603e-02, 5.9310e-01, 0.0000e+00,\n          0.0000e+00, 0.0000e+00, 0.0000e+00],\n         [2.0408e-01, 1.5273e-01, 2.5722e-01, 2.2652e-01, 1.5944e-01,\n          0.0000e+00, 0.0000e+00, 0.0000e+00],\n         [3.3630e-02, 5.5708e-01, 2.4292e-01, 1.5226e-02, 3.0691e-02,\n          1.2045e-01, 0.0000e+00, 0.0000e+00],\n         [1.3485e-01, 4.2347e-03, 1.9686e-02, 3.6784e-01, 1.1159e-01,\n          1.4660e-02, 3.4714e-01, 0.0000e+00],\n         [1.3658e-01, 6.5450e-02, 1.2612e-01, 1.7196e-01, 1.0809e-01,\n          5.6305e-02, 2.1627e-01, 1.1923e-01]],\n\n        [[1.0000e+00, 0.0000e+00, 0.0000e+00, 0.0000e+00, 0.0000e+00,\n          0.0000e+00, 0.0000e+00, 0.0000e+00],\n         [6.3775e-01, 3.6225e-01, 0.0000e+00, 0.0000e+00, 0.0000e+00,\n          0.0000e+00, 0.0000e+00, 0.0000e+00],\n         [2.5330e-04, 4.5811e-04, 9.9929e-01, 0.0000e+00, 0.0000e+00,\n          0.0000e+00, 0.0000e+00, 0.0000e+00],\n         [7.3558e-03, 2.3758e-03, 8.1862e-09, 9.9027e-01, 0.0000e+00,\n          0.0000e+00, 0.0000e+00, 0.0000e+00],\n         [5.7524e-02, 3.2187e-02, 2.8605e-05, 8.8712e-01, 2.3138e-02,\n          0.0000e+00, 0.0000e+00, 0.0000e+00],\n         [1.4739e-01, 1.0463e-01, 3.0915e-03, 5.8233e-01, 1.0945e-01,\n          5.3110e-02, 0.0000e+00, 0.0000e+00],\n         [1.6032e-01, 1.1146e-01, 1.3385e-02, 3.6941e-01, 2.1734e-01,\n          9.1402e-02, 3.6685e-02, 0.0000e+00],\n         [5.5378e-02, 2.8279e-02, 2.8621e-05, 8.1604e-01, 3.1016e-02,\n          7.5073e-03, 8.4602e-03, 5.3294e-02]]], grad_fn=<SoftmaxBackward0>)"
     },
     "execution_count": 22,
     "metadata": {},
     "output_type": "execute_result"
    }
   ],
   "source": [
    "torch.manual_seed(1337)\n",
    "B,T,C = 4,8,2\n",
    "x = torch.randn(B,T,C)\n",
    "\n",
    "head_size = 16\n",
    "key = torch.nn.Linear(C, head_size,bias=False)\n",
    "query = torch.nn.Linear(C, head_size,bias=False)\n",
    "value = torch.nn.Linear(C, head_size,bias=False)\n",
    "k = key(x)\n",
    "q = query(x)\n",
    "\n",
    "tril = torch.tril(torch.ones(T,T))\n",
    "wei = torch.zeros((T,T))\n",
    "wei = q @ k.transpose(-2,-1) * C ** -0.5 # (B,T,H) @ (B,H,T) = (B,T,T)\n",
    "wei = wei.masked_fill(tril== 0, float('-inf'))\n",
    "wei = F.softmax(wei,-1)\n",
    "v = value(x)\n",
    "out = wei @ v\n",
    "wei"
   ],
   "metadata": {
    "collapsed": false,
    "ExecuteTime": {
     "end_time": "2024-08-09T10:41:09.995982Z",
     "start_time": "2024-08-09T10:41:09.987257Z"
    }
   },
   "id": "4327e4d27d5b1d8d",
   "execution_count": 22
  },
  {
   "cell_type": "code",
   "outputs": [
    {
     "data": {
      "text/plain": "(torch.Size([4, 8, 16]), torch.Size([4, 8, 16]))"
     },
     "execution_count": 20,
     "metadata": {},
     "output_type": "execute_result"
    }
   ],
   "source": [
    "q.shape, k.shape"
   ],
   "metadata": {
    "collapsed": false,
    "ExecuteTime": {
     "end_time": "2024-08-09T10:40:25.174333Z",
     "start_time": "2024-08-09T10:40:25.170448Z"
    }
   },
   "id": "eb35f6d5affb0f35",
   "execution_count": 20
  },
  {
   "cell_type": "code",
   "outputs": [
    {
     "data": {
      "text/plain": "tensor([0.1925, 0.1426, 0.2351, 0.1426, 0.2872])"
     },
     "execution_count": 23,
     "metadata": {},
     "output_type": "execute_result"
    }
   ],
   "source": [
    "torch.softmax(torch.tensor([0.1,-0.2,0.3,-0.2,0.5]),dim=-1)"
   ],
   "metadata": {
    "collapsed": false,
    "ExecuteTime": {
     "end_time": "2024-08-09T10:43:36.360404Z",
     "start_time": "2024-08-09T10:43:36.355932Z"
    }
   },
   "id": "9dc1a59002fae8c2",
   "execution_count": 23
  },
  {
   "cell_type": "code",
   "outputs": [
    {
     "data": {
      "text/plain": "tensor([0.0326, 0.0030, 0.1615, 0.0030, 0.8000])"
     },
     "execution_count": 24,
     "metadata": {},
     "output_type": "execute_result"
    }
   ],
   "source": [
    "torch.softmax(torch.tensor([0.1,-0.2,0.3,-0.2,0.5])*8,dim=-1)\n"
   ],
   "metadata": {
    "collapsed": false,
    "ExecuteTime": {
     "end_time": "2024-08-09T10:44:05.513486Z",
     "start_time": "2024-08-09T10:44:05.508919Z"
    }
   },
   "id": "39d1b1eedb7caeff",
   "execution_count": 24
  },
  {
   "cell_type": "code",
   "outputs": [],
   "source": [
    "k = torch.randn(B,T,head_size)\n",
    "q = torch.randn(B,T,head_size)\n",
    "wei = q @ k.transpose(-2,-1) * head_size ** -0.5"
   ],
   "metadata": {
    "collapsed": false,
    "ExecuteTime": {
     "end_time": "2024-08-09T10:45:20.120491Z",
     "start_time": "2024-08-09T10:45:20.116602Z"
    }
   },
   "id": "8dcc316848557ea1",
   "execution_count": 27
  },
  {
   "cell_type": "code",
   "outputs": [
    {
     "data": {
      "text/plain": "(tensor(0.9213), tensor(0.9248), tensor(0.8903))"
     },
     "execution_count": 28,
     "metadata": {},
     "output_type": "execute_result"
    }
   ],
   "source": [
    "k.var(), q.var(), wei.var()"
   ],
   "metadata": {
    "collapsed": false,
    "ExecuteTime": {
     "end_time": "2024-08-09T10:45:22.650687Z",
     "start_time": "2024-08-09T10:45:22.645759Z"
    }
   },
   "id": "d26b1978bd9fccd8",
   "execution_count": 28
  }
 ],
 "metadata": {
  "kernelspec": {
   "display_name": "Python 3",
   "language": "python",
   "name": "python3"
  },
  "language_info": {
   "codemirror_mode": {
    "name": "ipython",
    "version": 2
   },
   "file_extension": ".py",
   "mimetype": "text/x-python",
   "name": "python",
   "nbconvert_exporter": "python",
   "pygments_lexer": "ipython2",
   "version": "2.7.6"
  }
 },
 "nbformat": 4,
 "nbformat_minor": 5
}
